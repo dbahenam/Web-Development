{
 "cells": [
  {
   "cell_type": "markdown",
   "metadata": {},
   "source": [
    "## Security vs Authentication\n",
    "\n",
    "Authentication:\n",
    "\n",
    "    - control expected actions by your website visitors\n",
    "    - Grant some visitors (e.g logged in visitors) more privileges than other\n",
    "\n",
    "Web Security:\n",
    "\n",
    "    - Prevent unexpected (potentially malicious) actions by visitors / other people\n",
    "    - Prevent exposing data or granting unwanted access to certain actions or your code\n",
    "\n",
    "## CSRF Attacks\n",
    "\n",
    "    - Stands for: Cross Site Request Forgery:\n",
    "\n",
    "    - An attack pattern where a malicious user creates a request that sends a request to your backend and causes some action that isn't suppose to happen.\n",
    "\n",
    "    - Forged Request: Triggers action on your site's backend code\n",
    "\n",
    "    - Usually involves user sessions\n",
    "\n",
    "    - Example: A user logged into to a website where they are able to transfer money to users via email. A user can receive a link to a malicious website that resembles the authentic website and send money from there. Since the user is logged in, there could be an active session, so if they redirect to the original website(send a post request), they will be allowed.\n",
    "    The fake website will send a post request to the original website but with other values inserted into the form. Can be done by creating hidden insert values with pre-defined email and amount to send. When the post request is handled by the original website, the user will think he send the money correctly.\n",
    "\n",
    "\n",
    "\n",
    "\n"
   ]
  },
  {
   "cell_type": "markdown",
   "metadata": {},
   "source": [
    "## Same-Site Cookies\n",
    "\n",
    "- Cookie configuration that can be set on the server-side where browsers also assume certain default values if it was not explicitly configured.\n",
    "\n",
    "- Chrome browser uses **Lax** as a default configuration.\n",
    "\n",
    "- Lax: cookies can be attached to requests that come from a different website but only if visited that website from the initial site. \n",
    "    - This can prevent the CSRF attack\n",
    "    - Disabled in localhost. \n",
    "    - Safari and Fire-Fox don't use it as a default, therefore we should set it in our server-side code.\n",
    "\n",
    "- This won't be full protection for all our users\n",
    "\n",
    "- Not all users will use latest version of browsers that don't support Lax "
   ]
  },
  {
   "cell_type": "markdown",
   "metadata": {},
   "source": [
    "## Protecting Against CSRF Attacks\n",
    "\n",
    "- **CSRF Token**: random looking string values that are generated on the server-side, only known by the server and are short-lived(for only one request response cycle).\n",
    "\n",
    "- The tokens are injected into the templates that are rendered by the server(for example in a hidden input field) and then for incoming requests, the server checks wether such a valid token is part of the request.\n",
    "\n",
    "- Since the tokens are only valid for one incoming request, and only exists in the official templates rendered by the server, the token's can't be guessed or faked. \n",
    "\n",
    "- Requests without a valid CSRF Token are blocked\n",
    "\n",
    "- **For node express apps: csurf package is used**\n",
    "    - input values containing csrf tokens, should have the name: name=\"_csrf\" !\n",
    "    - that's the name the csurf package will look for when the request is submitted\n",
    "    - automatically done by csurf middleware\n",
    "\n",
    "### In general, Any request that manipulates something on your backend (typically POST requests - but that's just the convention), should carry as CSRF Token!"
   ]
  },
  {
   "cell_type": "markdown",
   "metadata": {},
   "source": [
    "## XSS Attacks\n",
    "\n",
    "- Cross Site Scripting Attacks: Injecting malicious browser-side javascript code into the content of a website\n",
    "\n",
    "- You can send javascript code from a comment section like an AJAX request to some route. The request will have the a valid session because it's coming from the official site so it would have a valid csrf token. \n",
    "\n",
    "## Protecting XSS Attacks\n",
    "\n",
    "- Don't output + parse raw HTML content (if provided by users)\n",
    "\n",
    "- Escaping user input: in express templating (<%= >)\n",
    "    - using the **equal sign tag** above would escape and treat the input as plain text\n",
    "    - if you are using a different templating engine, look up their escape tag\n",
    "\n",
    "- Sanitize (clean) user input before processing & storing\n",
    "    - \n",
    "\n"
   ]
  },
  {
   "cell_type": "markdown",
   "metadata": {},
   "source": [
    "## SQL Injection\n"
   ]
  },
  {
   "cell_type": "markdown",
   "metadata": {},
   "source": [
    "**SQL**\n",
    "    - Attacks that pass in malicious sql queries\n",
    "    - Escape user input when processing\n",
    "    - Most sql packages have built in protection\n",
    "\n",
    "**NoSQL**\n",
    "    - "
   ]
  },
  {
   "cell_type": "markdown",
   "metadata": {},
   "source": []
  }
 ],
 "metadata": {
  "language_info": {
   "name": "python"
  },
  "orig_nbformat": 4
 },
 "nbformat": 4,
 "nbformat_minor": 2
}
