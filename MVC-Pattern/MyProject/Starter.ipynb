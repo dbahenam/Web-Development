{
 "cells": [
  {
   "cell_type": "markdown",
   "metadata": {},
   "source": [
    "## Initializing app.js:\n",
    "\n",
    "- npm i express\n",
    "    - express = require('express')\n",
    "- To work with sessions:\n",
    "    - npm i express-session\n",
    "    - session = require('express-session')\n",
    "- To be able to store sessions in MongoDB:\n",
    "    - This module exports a single function which takes an instance of connect (or Express) and returns a MongoDBStore class that can be used to store sessions in MongoDB.\n",
    "    - If you pass in an instance of the express-session module the MongoDBStore class will enable you to store your Express sessions in MongoDB.\n",
    "    - npm i connect-mongodb-session\n",
    "    - MongoDBStore = require('connect-mongodb-session)(session)\n",
    "    - store = new MongoDBStore({uri:..., collection:...})\n",
    "- For javascript template pages\n",
    "    - npm i ejs\n",
    "- npm i nodemon --save-dev\n",
    "- For csrf protection:\n",
    "    -  csrf = require('csurf')"
   ]
  },
  {
   "cell_type": "markdown",
   "metadata": {},
   "source": [
    "## Serving General Static Files:\n",
    "\n",
    "- Static css and javascript files are standalone requests.\n",
    "- If we have an html file that links other css/javascript files, a seperate http request will be sent by the browser\n",
    "- We can use a special middleware which is the **use** method in express that can help us serve these static files without having to create a route for each of them.\n",
    "- **app.use(express.static('public'));**"
   ]
  },
  {
   "cell_type": "markdown",
   "metadata": {},
   "source": [
    "## use()\n",
    "\n",
    "- The use method also handles requests, but unlike get and post, it doesn't care about what kind of request. It will be applied to all requests\n",
    "\n",
    "- We don't have to specify a path in this method, since it is a general handler function\n",
    "\n",
    "- General handler functions that apply to more than one type of request are called **middleware functions**\n",
    "\n",
    "- They are in the middle of express seeing that request and our code handling that request\n",
    "\n",
    "- **app.use(express.urlencoded({extended: false}));** This middleware is used for requests with incoming data. We have to parse the request data(plain text data) into javascript code. \n"
   ]
  },
  {
   "cell_type": "markdown",
   "metadata": {},
   "source": [
    "## Setting up templating engine:"
   ]
  },
  {
   "cell_type": "markdown",
   "metadata": {},
   "source": [
    "- the set method allows us to set certain options for the express app\n",
    "- app.set('views', path.join(__dirname, 'views'))\n",
    "    - This tells express where we want to store our template files that we want to process with our template engine\n",
    "    - the first param is reserved name\n",
    "    - the second param is the path to our views folder. doesn't have to be called views\n",
    "- app.set('view engine', 'ejs'))\n",
    "    - This tells express that we want to specify a special view engine for our view files.\n",
    "    - ejs is the template engine\n",
    "- we can now use res.render to render a template file\n",
    "    - you can omit the file extension since render will know that our template files will end in ejs\n",
    "\n"
   ]
  },
  {
   "cell_type": "markdown",
   "metadata": {},
   "source": [
    "## MongoDB\n",
    "\n",
    "- npm i mongodb\n",
    "- const mongodb = require('mongodb')\n",
    "- const MongoClient = mongodb.MongoClient\n",
    "- const client = await MongoClient.connect('mongodb://localhost')\n",
    "- database = client.db('nameOfCollection')"
   ]
  },
  {
   "cell_type": "markdown",
   "metadata": {},
   "source": [
    "## Routes\n",
    "\n",
    "- require express for using express.Router()\n",
    "- require mongodb (for creating ObjectId)\n",
    "- require bcrypt (for hashing passwords)\n",
    "- require database file"
   ]
  },
  {
   "cell_type": "markdown",
   "metadata": {},
   "source": [
    "## Creating Users (signup POST)\n",
    "\n",
    "- From the post route, get the user input data from the request.body\n",
    "- Confirm the email exists, the email and the confirmedEmail are the same, the email contains an @ symbol, the password has a length of atleast 6 (use .trim function) and it exists\n",
    "- If there is an error, we can add an object to the session. The attribute can be called inputData with an attribute hasError, message, email, confirEmail, and password. Make sure to save the session before redirecting (back to signup) and make sure to return after the save function. \n",
    "- If there are no errors, check if a user in the database collection already exists with that email. If a user does already exist, just add an object to the session with a different message and same attributes as above.\n",
    "- If the email has not been used, hash the given password (use await bcrypt.hash(pwd, 12))\n",
    "- create a user object and insert into collection\n",
    "- redirect to login page"
   ]
  },
  {
   "cell_type": "markdown",
   "metadata": {},
   "source": [
    "## Log in Users (login POST)\n",
    "\n",
    "- From the request's body, get the input data\n",
    "- Confirm there is a user with the given email in the users collection\n",
    "- If there is not, add the inputData object to the session. Same outline as above with the added message to let the user know there was an error with credentials (do not specify it is an email error). Save the session and redirect. Also return from if statement.\n",
    "- If a user with that email exists, check the given password matches the user password stored in database. Use bcrypt.compare(enteredPwd, user.pwd)\n",
    "- If the passwords don't match, repeat step where email doesn't exists. Keep the same message.\n",
    "- If the email and password are confirmed, add a user object to the session. req.session.user = {id: user._id, email: user.email}\n",
    "- You can also add a flag to the session, like req.session.isAuthenticated = true\n",
    "- Finally save your session and redirect to a page (blog or admin)\n"
   ]
  },
  {
   "cell_type": "markdown",
   "metadata": {},
   "source": [
    "## logout:\n",
    "\n",
    "- Wrap your logout button in a form\n",
    "\n",
    "- set the route method to post and action to /logout\n",
    "\n",
    "- the route definition should set the session user to null, isAuth to false and redirect to home page"
   ]
  },
  {
   "cell_type": "markdown",
   "metadata": {},
   "source": [
    "## locals:\n",
    "\n",
    "- use locals to help which navigation items should be shown\n",
    "\n",
    "- if req.session.user is null or req.session.isAuth is false, dont' show logout and adming page, show only login, signup and home page\n",
    "\n",
    "- set your locals: res.locals.isAuth = ...\n",
    "\n",
    "- locals are available for all template pages\n",
    "\n",
    "- in your header template pages, use if !locals.isAuth to check"
   ]
  },
  {
   "cell_type": "markdown",
   "metadata": {},
   "source": [
    "## CSRF Token:\n",
    "\n",
    "- npm i csurf\n",
    "- middleware: app.use(csrf());\n",
    "- In each template page that has a form, you should have a hidden input type that expects the csrf token value and the input should have a name \"_csrf\".\n",
    "-      <input type=\"hidden\" value=\"<%= csrfToken %>\" name=\"_csrf\">\n"
   ]
  },
  {
   "cell_type": "markdown",
   "metadata": {},
   "source": [
    "## Blog Posts:\n",
    "\n",
    "- "
   ]
  },
  {
   "cell_type": "markdown",
   "metadata": {},
   "source": []
  }
 ],
 "metadata": {
  "language_info": {
   "name": "python"
  },
  "orig_nbformat": 4
 },
 "nbformat": 4,
 "nbformat_minor": 2
}
